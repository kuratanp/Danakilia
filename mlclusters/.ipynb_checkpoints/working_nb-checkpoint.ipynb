{
 "cells": [
  {
   "cell_type": "markdown",
   "metadata": {},
   "source": [
    "## 1. Simulate data: \n",
    "### Create 3 populatons, each of populations contains 5 individuals, each of which has 5000 loci with random SNPs"
   ]
  },
  {
   "cell_type": "code",
   "execution_count": 1,
   "metadata": {},
   "outputs": [],
   "source": [
    "import numpy as np\n",
    "import sklearn"
   ]
  },
  {
   "cell_type": "code",
   "execution_count": 49,
   "metadata": {},
   "outputs": [],
   "source": [
    "nsnps = 5000\n",
    "\n",
    "# generate a data set with structure\n",
    "pop1 = np.random.binomial(1, 0.5, (1, nsnps))\n",
    "pop2 = np.random.binomial(1, 0.5, (1, nsnps))\n",
    "pop3 = np.random.binomial(1, 0.5, (1, nsnps))\n",
    "\n",
    "#make three population and each samples from  numpy array\n",
    "arrayx = np.concatenate([\n",
    "    np.repeat(pop1, 5, axis=0),   #repead pop1 5 times in y axis \n",
    "    np.repeat(pop2, 5, axis=0),\n",
    "    np.repeat(pop3, 5, axis=0),\n",
    "])    \n",
    "\n",
    "targety = np.concatenate([\n",
    "    np.repeat(1, 5),   #repead pop1 5 times in y axis \n",
    "    np.repeat(2, 5),\n",
    "    np.repeat(3, 5),\n",
    "]) "
   ]
  },
  {
   "cell_type": "code",
   "execution_count": 50,
   "metadata": {},
   "outputs": [
    {
     "data": {
      "text/plain": [
       "array([[1, 0, 1, ..., 1, 1, 0],\n",
       "       [1, 0, 1, ..., 1, 1, 0],\n",
       "       [1, 0, 1, ..., 1, 1, 0],\n",
       "       ...,\n",
       "       [1, 0, 0, ..., 0, 0, 0],\n",
       "       [1, 0, 0, ..., 0, 0, 0],\n",
       "       [1, 0, 0, ..., 0, 0, 0]])"
      ]
     },
     "execution_count": 50,
     "metadata": {},
     "output_type": "execute_result"
    }
   ],
   "source": [
    "arrayx"
   ]
  },
  {
   "cell_type": "code",
   "execution_count": 48,
   "metadata": {},
   "outputs": [
    {
     "data": {
      "text/plain": [
       "array([1, 1, 1, 1, 1, 2, 2, 2, 2, 2, 3, 3, 3, 3, 3])"
      ]
     },
     "execution_count": 48,
     "metadata": {},
     "output_type": "execute_result"
    }
   ],
   "source": [
    "targety"
   ]
  },
  {
   "cell_type": "markdown",
   "metadata": {},
   "source": [
    "### 1. Fit Kmeans clustering method"
   ]
  },
  {
   "cell_type": "code",
   "execution_count": 51,
   "metadata": {},
   "outputs": [],
   "source": [
    "from sklearn.cluster import KMeans\n",
    "import numpy as np"
   ]
  },
  {
   "cell_type": "code",
   "execution_count": 57,
   "metadata": {},
   "outputs": [
    {
     "data": {
      "text/plain": [
       "array([2, 2, 2, 2, 2, 1, 1, 1, 1, 1, 0, 0, 0, 0, 0], dtype=int32)"
      ]
     },
     "execution_count": 57,
     "metadata": {},
     "output_type": "execute_result"
    }
   ],
   "source": [
    "# fitting the Kmean model\n",
    "kmeans = KMeans(n_clusters=3, random_state=0).fit(arrayx) \n",
    "kmeans.labels_"
   ]
  },
  {
   "cell_type": "code",
   "execution_count": 55,
   "metadata": {},
   "outputs": [
    {
     "data": {
      "text/plain": [
       "array([0], dtype=int32)"
      ]
     },
     "execution_count": 55,
     "metadata": {},
     "output_type": "execute_result"
    }
   ],
   "source": [
    "# Get prediction of population 1 \n",
    "kmeans.predict(pop3)"
   ]
  },
  {
   "cell_type": "markdown",
   "metadata": {},
   "source": [
    "### 2. Clustering performance evaluation"
   ]
  },
  {
   "cell_type": "code",
   "execution_count": 58,
   "metadata": {},
   "outputs": [
    {
     "data": {
      "text/plain": [
       "1.0"
      ]
     },
     "execution_count": 58,
     "metadata": {},
     "output_type": "execute_result"
    }
   ],
   "source": [
    "from sklearn import metrics\n",
    "\n",
    "#2.3.9.1. Adjusted Rand index\n",
    "labels_true = targety\n",
    "labels_pred = kmeans.labels_\n",
    "metrics.adjusted_rand_score(labels_true, labels_pred) "
   ]
  },
  {
   "cell_type": "code",
   "execution_count": 59,
   "metadata": {},
   "outputs": [
    {
     "data": {
      "text/plain": [
       "1.0"
      ]
     },
     "execution_count": 59,
     "metadata": {},
     "output_type": "execute_result"
    }
   ],
   "source": [
    "#2.3.9.2. Mutual Information based scores\n",
    "metrics.adjusted_mutual_info_score(labels_true, labels_pred)"
   ]
  },
  {
   "cell_type": "code",
   "execution_count": 60,
   "metadata": {},
   "outputs": [
    {
     "data": {
      "text/plain": [
       "(1.0, 1.0, 1.0)"
      ]
     },
     "execution_count": 60,
     "metadata": {},
     "output_type": "execute_result"
    }
   ],
   "source": [
    "#2.3.9.3. Homogeneity, completeness and V-measure\n",
    "metrics.homogeneity_completeness_v_measure(labels_true, labels_pred)"
   ]
  },
  {
   "cell_type": "code",
   "execution_count": 61,
   "metadata": {},
   "outputs": [
    {
     "data": {
      "text/plain": [
       "1.0"
      ]
     },
     "execution_count": 61,
     "metadata": {},
     "output_type": "execute_result"
    }
   ],
   "source": [
    "#2.3.9.4. Fowlkes-Mallows scores\n",
    "\n",
    "metrics.fowlkes_mallows_score(labels_true, labels_pred) "
   ]
  },
  {
   "cell_type": "code",
   "execution_count": 63,
   "metadata": {},
   "outputs": [
    {
     "data": {
      "text/plain": [
       "1.0"
      ]
     },
     "execution_count": 63,
     "metadata": {},
     "output_type": "execute_result"
    }
   ],
   "source": [
    "#2.3.9.5. Silhouette Coefficient\n",
    "import numpy as np\n",
    "from sklearn.cluster import KMeans\n",
    "kmeans_model = KMeans(n_clusters=3, random_state=1).fit(arrayx)\n",
    "labels = kmeans_model.labels_\n",
    "metrics.silhouette_score((arrayx), labels, metric='euclidean')"
   ]
  },
  {
   "cell_type": "code",
   "execution_count": null,
   "metadata": {},
   "outputs": [],
   "source": [
    "#.3.9.6. Calinski-Harabaz Index"
   ]
  },
  {
   "cell_type": "code",
   "execution_count": 62,
   "metadata": {},
   "outputs": [
    {
     "data": {
      "text/plain": [
       "1.0"
      ]
     },
     "execution_count": 62,
     "metadata": {},
     "output_type": "execute_result"
    }
   ],
   "source": [
    "import numpy as np\n",
    "from sklearn.cluster import KMeans\n",
    "from sklearn import metrics\n",
    "kmeans_model = KMeans(n_clusters=3, random_state=1).fit(arrayx)\n",
    "labels = kmeans_model.labels_\n",
    "metrics.calinski_harabaz_score(arrayx, labels)"
   ]
  },
  {
   "cell_type": "markdown",
   "metadata": {},
   "source": [
    "### Plot"
   ]
  },
  {
   "cell_type": "code",
   "execution_count": 68,
   "metadata": {},
   "outputs": [
    {
     "name": "stdout",
     "output_type": "stream",
     "text": [
      "Automatically created module for IPython interactive environment\n"
     ]
    },
    {
     "data": {
      "image/png": "[encoded data removed]",
      "text/plain": [
       "<Figure size 432x288 with 1 Axes>"
      ]
     },
     "metadata": {},
     "output_type": "display_data"
    }
   ],
   "source": [
    "print(__doc__)\n",
    "\n",
    "import numpy as np\n",
    "from sklearn.cluster import KMeans\n",
    "\n",
    "# #############################################################################\n",
    "# Compute clustering with Means\n",
    "\n",
    "k_means = KMeans(init='k-means++', n_clusters=3, n_init=10)\n",
    "k_means.fit(arrayx)\n",
    "\n",
    "# #############################################################################\n",
    "# The following bandwidth can be automatically detected using\n",
    "\n",
    "labels = k_means.labels_\n",
    "cluster_centers = k_means.cluster_centers_\n",
    "\n",
    "labels_unique = np.unique(labels)\n",
    "n_clusters_ = len(labels_unique)\n",
    "\n",
    "\n",
    "# #############################################################################\n",
    "# Plot result\n",
    "import matplotlib.pyplot as plt\n",
    "from itertools import cycle\n",
    "\n",
    "plt.figure(1)\n",
    "plt.clf()\n",
    "\n",
    "colors = cycle('bgrcmykbgrcmykbgrcmykbgrcmyk')\n",
    "for k, col in zip(range(n_clusters_), colors):\n",
    "    my_members = labels == k\n",
    "    cluster_center = cluster_centers[k]\n",
    "    plt.plot(arrayx[my_members, 0], arrayx[my_members, 1], col + '.')\n",
    "    plt.plot(cluster_center[0], cluster_center[1], 'o', markerfacecolor=col,\n",
    "             markeredgecolor='k', markersize=14)\n",
    "plt.title('Estimated number of clusters: %d' % n_clusters_)\n",
    "plt.show()"
   ]
  },
  {
   "cell_type": "code",
   "execution_count": null,
   "metadata": {},
   "outputs": [],
   "source": []
  },
  {
   "cell_type": "code",
   "execution_count": null,
   "metadata": {},
   "outputs": [],
   "source": []
  },
  {
   "cell_type": "code",
   "execution_count": null,
   "metadata": {},
   "outputs": [],
   "source": []
  },
  {
   "cell_type": "code",
   "execution_count": null,
   "metadata": {},
   "outputs": [],
   "source": [
    "print(__doc__)\n",
    "\n",
    "import time\n",
    "\n",
    "import numpy as np\n",
    "import matplotlib.pyplot as plt\n",
    "\n",
    "from sklearn.cluster import MiniBatchKMeans, KMeans\n",
    "from sklearn.metrics.pairwise import pairwise_distances_argmin\n",
    "from sklearn.datasets.samples_generator import make_blobs\n",
    "\n",
    "# #############################################################################\n",
    "# Generate sample data\n",
    "np.random.seed(0)\n",
    "\n",
    "batch_size = 45\n",
    "centers = [[1, 1], [-1, -1], [1, -1]]\n",
    "n_clusters = len(centers)\n",
    "X, labels_true = make_blobs(n_samples=3000, centers=centers, cluster_std=0.7)\n",
    "\n",
    "# #############################################################################\n",
    "# Compute clustering with Means\n",
    "\n",
    "k_means = KMeans(init='k-means++', n_clusters=3, n_init=10)\n",
    "t0 = time.time()\n",
    "k_means.fit(X)\n",
    "t_batch = time.time() - t0\n",
    "\n",
    "\n",
    "# #############################################################################\n",
    "# Plot result\n",
    "\n",
    "fig = plt.figure(figsize=(8, 3))\n",
    "fig.subplots_adjust(left=0.02, right=0.98, bottom=0.05, top=0.9)\n",
    "colors = ['#4EACC5', '#FF9C34', '#4E9A06']\n",
    "\n",
    "# We want to have the same colors for the same cluster from the\n",
    "# MiniBatchKMeans and the KMeans algorithm. Let's pair the cluster centers per\n",
    "# closest one.\n",
    "k_means_cluster_centers = np.sort(k_means.cluster_centers_, axis=0)\n",
    "mbk_means_cluster_centers = np.sort(mbk.cluster_centers_, axis=0)\n",
    "k_means_labels = pairwise_distances_argmin(X, k_means_cluster_centers)\n",
    "mbk_means_labels = pairwise_distances_argmin(X, mbk_means_cluster_centers)\n",
    "order = pairwise_distances_argmin(k_means_cluster_centers,\n",
    "                                  mbk_means_cluster_centers)\n",
    "\n",
    "# KMeans\n",
    "ax = fig.add_subplot(1, 3, 1)\n",
    "for k, col in zip(range(n_clusters), colors):\n",
    "    my_members = k_means_labels == k\n",
    "    cluster_center = k_means_cluster_centers[k]\n",
    "    ax.plot(X[my_members, 0], X[my_members, 1], 'w',\n",
    "            markerfacecolor=col, marker='.')\n",
    "    ax.plot(cluster_center[0], cluster_center[1], 'o', markerfacecolor=col,\n",
    "            markeredgecolor='k', markersize=6)\n",
    "ax.set_title('KMeans')\n",
    "ax.set_xticks(())\n",
    "ax.set_yticks(())\n",
    "plt.text(-3.5, 1.8,  'train time: %.2fs\\ninertia: %f' % (\n",
    "    t_batch, k_means.inertia_))\n",
    "\n",
    "# MiniBatchKMeans\n",
    "ax = fig.add_subplot(1, 3, 2)\n",
    "for k, col in zip(range(n_clusters), colors):\n",
    "    my_members = mbk_means_labels == order[k]\n",
    "    cluster_center = mbk_means_cluster_centers[order[k]]\n",
    "    ax.plot(X[my_members, 0], X[my_members, 1], 'w',\n",
    "            markerfacecolor=col, marker='.')\n",
    "    ax.plot(cluster_center[0], cluster_center[1], 'o', markerfacecolor=col,\n",
    "            markeredgecolor='k', markersize=6)\n",
    "ax.set_title('MiniBatchKMeans')\n",
    "ax.set_xticks(())\n",
    "ax.set_yticks(())\n",
    "plt.text(-3.5, 1.8, 'train time: %.2fs\\ninertia: %f' %\n",
    "         (t_mini_batch, mbk.inertia_))\n",
    "\n",
    "# Initialise the different array to all False\n",
    "different = (mbk_means_labels == 4)\n",
    "ax = fig.add_subplot(1, 3, 3)\n",
    "\n",
    "for k in range(n_clusters):\n",
    "    different += ((k_means_labels == k) != (mbk_means_labels == order[k]))\n",
    "\n",
    "identic = np.logical_not(different)\n",
    "ax.plot(X[identic, 0], X[identic, 1], 'w',\n",
    "        markerfacecolor='#bbbbbb', marker='.')\n",
    "ax.plot(X[different, 0], X[different, 1], 'w',\n",
    "        markerfacecolor='m', marker='.')\n",
    "ax.set_title('Difference')\n",
    "ax.set_xticks(())\n",
    "ax.set_yticks(())\n",
    "\n",
    "plt.show()"
   ]
  },
  {
   "cell_type": "code",
   "execution_count": null,
   "metadata": {},
   "outputs": [],
   "source": []
  }
 ],
 "metadata": {
  "kernelspec": {
   "display_name": "Python 3",
   "language": "python",
   "name": "python3"
  },
  "language_info": {
   "codemirror_mode": {
    "name": "ipython",
    "version": 3
   },
   "file_extension": ".py",
   "mimetype": "text/x-python",
   "name": "python",
   "nbconvert_exporter": "python",
   "pygments_lexer": "ipython3",
   "version": "3.6.5"
  }
 },
 "nbformat": 4,
 "nbformat_minor": 2
}
