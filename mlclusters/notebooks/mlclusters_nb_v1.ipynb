{
 "cells": [
  {
   "cell_type": "markdown",
   "metadata": {},
   "source": [
    "## Class object mlclusters with geno file\n",
    "\n",
    "Here I used an example geno file instead of a generated dataset (see mlclusters_nb_simulated_data.ipynb) to run the class object mlclusters.\n",
    "\n",
    "__INDEX:__\n",
    "\n",
    "```\n",
    "1. Import libraries\n",
    "2. Run class object mlclusters\n",
    "3. Open an example geno file\n",
    "4. Transpose the array : (X, Y) --> (Y, X)\n",
    "5. Change missing values 9s to nan\n",
    "6. Initialize missing values to their column means \n",
    "\ta. detect cells that are not numbers like nan (e.g. numbers =TRUE, nan=FALSE)\n",
    "\tb. Compute the arithmetic mean long the specific axis( each loci (column)\n",
    "\tc. If TRUE assign x otherwise assign mu (average value)\n",
    "7. Transform the array(normalization) - scaler.transform(X)\n",
    "8. Fit the kmean model\n",
    "9. Performance evaluation try y label with simulated. and not simulated\n",
    "10. Plot data\n",
    "```\n",
    "\n",
    "### 1. Import libraries"
   ]
  },
  {
   "cell_type": "code",
   "execution_count": 2,
   "metadata": {},
   "outputs": [],
   "source": [
    "import matplotlib.pyplot as plt\n",
    "from itertools import cycle\n",
    "import numpy as np\n",
    "import pandas as pd\n",
    "from sklearn.cluster import KMeans\n",
    "from sklearn import metrics"
   ]
  },
  {
   "cell_type": "markdown",
   "metadata": {},
   "source": [
    "### 2. Run class object mlclusters\n",
    "I created a class object called mlclusters which fits a KMeans clustering method, evaluate the clustering performance, and plot. "
   ]
  },
  {
   "cell_type": "code",
   "execution_count": 3,
   "metadata": {},
   "outputs": [],
   "source": [
    "class Mlclusters:\n",
    "    \n",
    "    def __init__(self, ddrad, n_cluster):\n",
    "        \n",
    "        self.ddrad = ddrad\n",
    "        self.n_cluster = n_cluster\n",
    "        self.kmeans_labels = self._fit_kmeans\n",
    "        self.evaluate_performance = self._evaluate_performance\n",
    "        self.plot_kmeans = self._plot_kmeans\n",
    "         \n",
    "\n",
    "    # private functions\n",
    "    def _fit_kmeans(self):\n",
    "        \"\"\"\n",
    "        Fit Kmeans clustering method \n",
    "        \"\"\"  \n",
    "        kmeans_model = KMeans(self.n_cluster, random_state=1).fit(self.ddrad)\n",
    "        labels = kmeans_model.labels_\n",
    "        return labels\n",
    "    \n",
    "        \n",
    "    def _evaluate_performance(self):\n",
    "        \"\"\"\n",
    "        Evaluate clustering performace using Silhouette Coefficient and Calinski-Harabaz Index\n",
    "        \"\"\"  \n",
    "        s_score = metrics.silhouette_score((self.ddrad), self.kmeans_labels(), metric='euclidean')\n",
    "        ch_score = metrics.calinski_harabaz_score((self.ddrad), self.kmeans_labels())\n",
    "\n",
    "        return pd.Series(\n",
    "            {\"Silhouette Coefficient\": s_score,\n",
    "             \"Calinski-Harabaz Index\": ch_score,\n",
    "            })\n",
    "    \n",
    "    \n",
    "    def _plot_kmeans(self):\n",
    "        \"\"\"\n",
    "        Creating a visual plot\n",
    "        \"\"\"  \n",
    "\n",
    "        # Compute clustering with KMeans\n",
    "\n",
    "        k_means = KMeans(self.n_cluster, init='k-means++', n_init=10)\n",
    "        k_means.fit(self.ddrad)\n",
    "\n",
    "        # The following bandwidth can be automatically detected using\n",
    "\n",
    "        labels = k_means.labels_\n",
    "        cluster_centers = k_means.cluster_centers_\n",
    "\n",
    "        labels_unique = np.unique(labels)\n",
    "        n_clusters_ = len(labels_unique)\n",
    "\n",
    "        # Plot result\n",
    "        plt.figure(1)\n",
    "        plt.clf() # Clear the current figure.\n",
    "\n",
    "        colors = cycle('bgrcmykbgrcmykbgrcmykbgrcmyk')\n",
    "        for k, col in zip(range(n_clusters_), colors):\n",
    "            my_members = labels == k\n",
    "            cluster_center = cluster_centers[k]\n",
    "            plt.plot(self.ddrad[my_members, 0], self.ddrad[my_members, 1], col + '.')\n",
    "            plt.plot(cluster_center[0], cluster_center[1], 'o', markerfacecolor=col,\n",
    "             markeredgecolor='k', markersize=14)\n",
    "        plt.title('Estimated number of clusters: %d' % n_clusters_)\n",
    "        plt.show()   \n",
    "    \n",
    "        # public function\n"
   ]
  },
  {
   "cell_type": "markdown",
   "metadata": {},
   "source": [
    "### 3. Open an example geno file\n"
   ]
  },
  {
   "cell_type": "code",
   "execution_count": 4,
   "metadata": {},
   "outputs": [],
   "source": [
    "geno = \"/Users/teachinghouse/PDSB/mlclusters/data/example.geno\""
   ]
  },
  {
   "cell_type": "code",
   "execution_count": 5,
   "metadata": {},
   "outputs": [],
   "source": [
    "with open(geno) as indata:\n",
    "    idata = indata.read()"
   ]
  },
  {
   "cell_type": "code",
   "execution_count": 6,
   "metadata": {},
   "outputs": [],
   "source": [
    "idata = np.array([list(i) for i in idata.split()], dtype=float)"
   ]
  },
  {
   "cell_type": "code",
   "execution_count": 7,
   "metadata": {},
   "outputs": [
    {
     "data": {
      "text/plain": [
       "array([[2., 2., 2., ..., 2., 2., 2.],\n",
       "       [2., 2., 2., ..., 2., 2., 1.],\n",
       "       [2., 2., 2., ..., 0., 0., 2.],\n",
       "       ...,\n",
       "       [2., 2., 2., ..., 2., 2., 2.],\n",
       "       [2., 2., 2., ..., 2., 2., 2.],\n",
       "       [2., 2., 2., ..., 2., 2., 0.]])"
      ]
     },
     "execution_count": 7,
     "metadata": {},
     "output_type": "execute_result"
    }
   ],
   "source": [
    "idata"
   ]
  },
  {
   "cell_type": "code",
   "execution_count": 9,
   "metadata": {},
   "outputs": [
    {
     "data": {
      "text/plain": [
       "(9405, 12)"
      ]
     },
     "execution_count": 9,
     "metadata": {},
     "output_type": "execute_result"
    }
   ],
   "source": [
    "idata.shape"
   ]
  },
  {
   "cell_type": "markdown",
   "metadata": {},
   "source": [
    "### 4. Transpose the array : (X, Y) --> (Y, X)"
   ]
  },
  {
   "cell_type": "code",
   "execution_count": 8,
   "metadata": {},
   "outputs": [
    {
     "data": {
      "text/plain": [
       "array([[2., 2., 2., ..., 2., 2., 2.],\n",
       "       [2., 2., 2., ..., 2., 2., 2.],\n",
       "       [2., 2., 2., ..., 2., 2., 2.],\n",
       "       ...,\n",
       "       [2., 2., 0., ..., 2., 2., 2.],\n",
       "       [2., 2., 0., ..., 2., 2., 2.],\n",
       "       [2., 1., 2., ..., 2., 2., 0.]])"
      ]
     },
     "execution_count": 8,
     "metadata": {},
     "output_type": "execute_result"
    }
   ],
   "source": [
    "idata.T"
   ]
  },
  {
   "cell_type": "code",
   "execution_count": 10,
   "metadata": {},
   "outputs": [
    {
     "data": {
      "text/plain": [
       "(12, 9405)"
      ]
     },
     "execution_count": 10,
     "metadata": {},
     "output_type": "execute_result"
    }
   ],
   "source": [
    "idata.T.shape"
   ]
  },
  {
   "cell_type": "markdown",
   "metadata": {},
   "source": [
    "### 5. Change missing values 9s to nan"
   ]
  },
  {
   "cell_type": "code",
   "execution_count": 11,
   "metadata": {},
   "outputs": [
    {
     "data": {
      "text/plain": [
       "True"
      ]
     },
     "execution_count": 11,
     "metadata": {},
     "output_type": "execute_result"
    }
   ],
   "source": [
    "# check for any missing data. 9s are missing data\n",
    "np.any(idata==9)"
   ]
  },
  {
   "cell_type": "code",
   "execution_count": 13,
   "metadata": {},
   "outputs": [],
   "source": [
    "# replace 9 with non\n",
    "idata[idata==9] = np.nan\n",
    "#data = data.astype(int)"
   ]
  },
  {
   "cell_type": "code",
   "execution_count": 14,
   "metadata": {},
   "outputs": [
    {
     "data": {
      "text/plain": [
       "True"
      ]
     },
     "execution_count": 14,
     "metadata": {},
     "output_type": "execute_result"
    }
   ],
   "source": [
    "# check for any missing data\n",
    "np.any(np.isnan(idata))"
   ]
  },
  {
   "cell_type": "code",
   "execution_count": 18,
   "metadata": {},
   "outputs": [
    {
     "data": {
      "text/plain": [
       "array([[2., 2., 2., ..., 2., 2., 2.],\n",
       "       [2., 2., 2., ..., 2., 2., 1.],\n",
       "       [2., 2., 2., ..., 0., 0., 2.],\n",
       "       ...,\n",
       "       [2., 2., 2., ..., 2., 2., 2.],\n",
       "       [2., 2., 2., ..., 2., 2., 2.],\n",
       "       [2., 2., 2., ..., 2., 2., 0.]])"
      ]
     },
     "execution_count": 18,
     "metadata": {},
     "output_type": "execute_result"
    }
   ],
   "source": [
    "idata"
   ]
  },
  {
   "cell_type": "markdown",
   "metadata": {},
   "source": [
    "### 6. Initialize missing values to their column means \n",
    "\ta. detect cells that are not numbers like nan (e.g. numbers =TRUE, nan=FALSE)\n",
    "\tb. Compute the arithmetic mean long the specific axis( each loci (column)\n",
    "\tc. If TRUE assign x otherwise assign mu (average value)"
   ]
  },
  {
   "cell_type": "code",
   "execution_count": 20,
   "metadata": {},
   "outputs": [],
   "source": [
    "missing = ~np.isfinite(idata)  #Test element-wise for finiteness (not infinity or not Not a Number).\n",
    "mu = np.nanmean(idata, 0, keepdims=1) #Compute the arithmetic mean along the specified axis, ignoring NaNs. Returns the average of the array elements (each column).\n",
    "X_hat = np.where(missing, mu, idata) # numpy.where(condition[,x,y]) condition: when True, yield  x otherwise yeid y\n"
   ]
  },
  {
   "cell_type": "code",
   "execution_count": 21,
   "metadata": {},
   "outputs": [
    {
     "data": {
      "text/plain": [
       "array([[2., 2., 2., ..., 2., 2., 2.],\n",
       "       [2., 2., 2., ..., 2., 2., 1.],\n",
       "       [2., 2., 2., ..., 0., 0., 2.],\n",
       "       ...,\n",
       "       [2., 2., 2., ..., 2., 2., 2.],\n",
       "       [2., 2., 2., ..., 2., 2., 2.],\n",
       "       [2., 2., 2., ..., 2., 2., 0.]])"
      ]
     },
     "execution_count": 21,
     "metadata": {},
     "output_type": "execute_result"
    }
   ],
   "source": [
    "X_hat"
   ]
  },
  {
   "cell_type": "markdown",
   "metadata": {},
   "source": [
    "### 7. Transform the array (normalization) - scaler.transform(X)"
   ]
  },
  {
   "cell_type": "code",
   "execution_count": 26,
   "metadata": {},
   "outputs": [
    {
     "data": {
      "text/plain": [
       "array([[ 0.34919861,  0.34774567,  0.34839436, ...,  0.40028964,\n",
       "         0.40056073,  0.40078169],\n",
       "       [ 0.34919861,  0.34774567,  0.34839436, ...,  0.40028964,\n",
       "         0.40056073, -1.15979006],\n",
       "       [ 0.34919861,  0.34774567,  0.34839436, ..., -2.69968536,\n",
       "        -2.71365791,  0.40078169],\n",
       "       ...,\n",
       "       [ 0.34919861,  0.34774567,  0.34839436, ...,  0.40028964,\n",
       "         0.40056073,  0.40078169],\n",
       "       [ 0.34919861,  0.34774567,  0.34839436, ...,  0.40028964,\n",
       "         0.40056073,  0.40078169],\n",
       "       [ 0.34919861,  0.34774567,  0.34839436, ...,  0.40028964,\n",
       "         0.40056073, -2.72036181]])"
      ]
     },
     "execution_count": 26,
     "metadata": {},
     "output_type": "execute_result"
    }
   ],
   "source": [
    "from sklearn.preprocessing import StandardScaler\n",
    "scaler = StandardScaler()\n",
    "scaler.fit(X_hat)\n",
    "Xt = scaler.transform(X_hat)\n",
    "Xt"
   ]
  },
  {
   "cell_type": "markdown",
   "metadata": {},
   "source": [
    "### 5. Transpose the matrix"
   ]
  },
  {
   "cell_type": "code",
   "execution_count": 21,
   "metadata": {},
   "outputs": [
    {
     "data": {
      "text/plain": [
       "array([[2., 2., 2., ..., 2., 2., 2.],\n",
       "       [2., 2., 2., ..., 2., 2., 2.],\n",
       "       [2., 2., 2., ..., 2., 2., 2.],\n",
       "       ...,\n",
       "       [2., 2., 0., ..., 2., 2., 2.],\n",
       "       [2., 2., 0., ..., 2., 2., 2.],\n",
       "       [2., 1., 2., ..., 2., 2., 0.]])"
      ]
     },
     "execution_count": 21,
     "metadata": {},
     "output_type": "execute_result"
    }
   ],
   "source": [
    "idata.T"
   ]
  },
  {
   "cell_type": "code",
   "execution_count": 23,
   "metadata": {},
   "outputs": [
    {
     "data": {
      "text/plain": [
       "(12, 9405)"
      ]
     },
     "execution_count": 23,
     "metadata": {},
     "output_type": "execute_result"
    }
   ],
   "source": [
    "idata.T.shape"
   ]
  },
  {
   "cell_type": "code",
   "execution_count": 36,
   "metadata": {},
   "outputs": [],
   "source": [
    "from sklearn.preprocessing import StandardScaler\n",
    "scaler = StandardScaler()\n",
    "\n",
    "iX = idata.T"
   ]
  },
  {
   "cell_type": "code",
   "execution_count": 37,
   "metadata": {},
   "outputs": [
    {
     "data": {
      "text/plain": [
       "array([[ 0.30151134,  0.30151134,  0.57735027, ...,  0.30151134,\n",
       "         0.30151134, -0.20227835],\n",
       "       [ 0.30151134,  0.30151134,  0.57735027, ...,  0.30151134,\n",
       "         0.30151134, -0.20227835],\n",
       "       [ 0.30151134,  0.30151134,  0.57735027, ...,  0.30151134,\n",
       "         0.30151134, -0.20227835],\n",
       "       ...,\n",
       "       [ 0.30151134,  0.30151134, -1.73205081, ...,  0.30151134,\n",
       "         0.30151134, -0.20227835],\n",
       "       [ 0.30151134,  0.30151134, -1.73205081, ...,  0.30151134,\n",
       "         0.30151134, -0.20227835],\n",
       "       [ 0.30151134, -3.31662479,  0.57735027, ...,  0.30151134,\n",
       "         0.30151134, -1.17321442]])"
      ]
     },
     "execution_count": 37,
     "metadata": {},
     "output_type": "execute_result"
    }
   ],
   "source": [
    "scaler.fit(iX)\n",
    "Xt = scaler.transform(iX)\n",
    "Xt"
   ]
  },
  {
   "cell_type": "code",
   "execution_count": null,
   "metadata": {},
   "outputs": [],
   "source": [
    "### 8. Fit the kmean model"
   ]
  },
  {
   "cell_type": "code",
   "execution_count": 28,
   "metadata": {},
   "outputs": [
    {
     "data": {
      "text/plain": [
       "array([0, 0, 2, ..., 0, 0, 0], dtype=int32)"
      ]
     },
     "execution_count": 28,
     "metadata": {},
     "output_type": "execute_result"
    }
   ],
   "source": [
    "# Creat an object \n",
    "ifish = Mlclusters(Xt, 3)\n",
    "# return clustering labels\n",
    "ifish.kmeans_labels()"
   ]
  },
  {
   "cell_type": "code",
   "execution_count": null,
   "metadata": {},
   "outputs": [],
   "source": [
    "### 9. Performance evaluation try y label with simulated. and not simulated"
   ]
  },
  {
   "cell_type": "code",
   "execution_count": 29,
   "metadata": {},
   "outputs": [
    {
     "data": {
      "text/plain": [
       "Calinski-Harabaz Index    2186.253156\n",
       "Silhouette Coefficient       0.375977\n",
       "dtype: float64"
      ]
     },
     "execution_count": 29,
     "metadata": {},
     "output_type": "execute_result"
    }
   ],
   "source": [
    "ifish.evaluate_performance()"
   ]
  },
  {
   "cell_type": "markdown",
   "metadata": {},
   "source": [
    "##### Silhouette Coefficient \n",
    "* The score is bounded between -1 for incorrect clustering and +1 for highly dense clustering. Scores around zero indicate overlapping clusters.\n",
    "* The score is higher when clusters are dense and well separated, which relates to a standard concept of a cluster.\n",
    "* The Silhouette Coefficient is generally higher for convex clusters than other concepts of clusters, such as density based clusters like those obtained through DBSCAN.\n",
    "\n",
    "##### Calinski-Harabaz Index\n",
    "* The score is higher when clusters are dense and well separated, which relates to a standard concept of a cluster.\n",
    "The score is fast to compute\n",
    "* The Calinski-Harabaz index is generally higher for convex clusters than other concepts of clusters, such as density based clusters like those obtained through DBSCAN."
   ]
  },
  {
   "cell_type": "code",
   "execution_count": null,
   "metadata": {},
   "outputs": [],
   "source": [
    "### 10. Plot data"
   ]
  },
  {
   "cell_type": "code",
   "execution_count": 30,
   "metadata": {},
   "outputs": [
    {
     "data": {
      "image/png": "[encoded data removed]",
      "text/plain": [
       "<Figure size 432x288 with 1 Axes>"
      ]
     },
     "metadata": {},
     "output_type": "display_data"
    }
   ],
   "source": [
    "ifish.plot_kmeans()"
   ]
  },
  {
   "cell_type": "code",
   "execution_count": 33,
   "metadata": {},
   "outputs": [],
   "source": [
    "from matplotlib import pyplot as plt\n",
    "from mpl_toolkits.mplot3d import Axes3D"
   ]
  },
  {
   "cell_type": "code",
   "execution_count": 42,
   "metadata": {},
   "outputs": [
    {
     "data": {
      "image/png": "[encoded data removed]",
      "text/plain": [
       "<Figure size 432x288 with 1 Axes>"
      ]
     },
     "metadata": {},
     "output_type": "display_data"
    }
   ],
   "source": [
    "\n",
    "# plot the inferred points, color-coded according to the true cluster labels\n",
    "fig, ax = plt.subplots(1, 1, subplot_kw={'projection':'3d', 'aspect':'equal'})\n",
    "\n",
    "ax.scatter3D(X_hat[:, 0], X_hat[:, 1], X_hat[:, 2],\n",
    "                cmap='gist_rainbow')\n",
    "ax.set_title('Imputed (missing values)')\n",
    "fig.tight_layout()"
   ]
  },
  {
   "cell_type": "code",
   "execution_count": 43,
   "metadata": {},
   "outputs": [
    {
     "ename": "TypeError",
     "evalue": "'PathCollection' object is not iterable",
     "output_type": "error",
     "traceback": [
      "\u001b[0;31m---------------------------------------------------------------------------\u001b[0m",
      "\u001b[0;31mTypeError\u001b[0m                                 Traceback (most recent call last)",
      "\u001b[0;32m<ipython-input-43-1e282db1beec>\u001b[0m in \u001b[0;36m<module>\u001b[0;34m()\u001b[0m\n\u001b[0;32m----> 1\u001b[0;31m \u001b[0mfig\u001b[0m\u001b[0;34m,\u001b[0m \u001b[0max\u001b[0m \u001b[0;34m=\u001b[0m \u001b[0mplt\u001b[0m\u001b[0;34m.\u001b[0m\u001b[0mscatter\u001b[0m\u001b[0;34m(\u001b[0m\u001b[0mX_hat\u001b[0m\u001b[0;34m[\u001b[0m\u001b[0;34m:\u001b[0m\u001b[0;34m,\u001b[0m \u001b[0;36m0\u001b[0m\u001b[0;34m]\u001b[0m\u001b[0;34m,\u001b[0m \u001b[0mX_hat\u001b[0m\u001b[0;34m[\u001b[0m\u001b[0;34m:\u001b[0m\u001b[0;34m,\u001b[0m \u001b[0;36m1\u001b[0m\u001b[0;34m]\u001b[0m\u001b[0;34m)\u001b[0m\u001b[0;34m\u001b[0m\u001b[0m\n\u001b[0m\u001b[1;32m      2\u001b[0m \u001b[0;34m\u001b[0m\u001b[0m\n",
      "\u001b[0;31mTypeError\u001b[0m: 'PathCollection' object is not iterable"
     ]
    },
    {
     "data": {
      "image/png": "[encoded data removed]",
      "text/plain": [
       "<Figure size 432x288 with 1 Axes>"
      ]
     },
     "metadata": {},
     "output_type": "display_data"
    }
   ],
   "source": [
    "fig, ax = plt.scatter(X_hat[:, 0], X_hat[:, 1])\n",
    "\n"
   ]
  },
  {
   "cell_type": "markdown",
   "metadata": {},
   "source": [
    "Previous redults without normalization"
   ]
  },
  {
   "cell_type": "code",
   "execution_count": 56,
   "metadata": {},
   "outputs": [
    {
     "data": {
      "text/plain": [
       "Calinski-Harabaz Index    1.845193\n",
       "Silhouette Coefficient    0.046620\n",
       "dtype: float64"
      ]
     },
     "execution_count": 56,
     "metadata": {},
     "output_type": "execute_result"
    }
   ],
   "source": [
    "#ifish.evaluate_performance()"
   ]
  },
  {
   "cell_type": "code",
   "execution_count": 57,
   "metadata": {},
   "outputs": [
    {
     "data": {
      "image/png": "[encoded data removed]",
      "text/plain": [
       "<Figure size 432x288 with 1 Axes>"
      ]
     },
     "metadata": {},
     "output_type": "display_data"
    }
   ],
   "source": [
    "#ifish.plot_kmeans()"
   ]
  }
 ],
 "metadata": {
  "kernelspec": {
   "display_name": "Python 2",
   "language": "python",
   "name": "python2"
  },
  "language_info": {
   "codemirror_mode": {
    "name": "ipython",
    "version": 2
   },
   "file_extension": ".py",
   "mimetype": "text/x-python",
   "name": "python",
   "nbconvert_exporter": "python",
   "pygments_lexer": "ipython2",
   "version": "2.7.14"
  }
 },
 "nbformat": 4,
 "nbformat_minor": 2
}
