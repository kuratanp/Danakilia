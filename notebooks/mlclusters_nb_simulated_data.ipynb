{
 "cells": [
  {
   "cell_type": "markdown",
   "metadata": {},
   "source": [
    "## Class object mlclusters with simulated data\n",
    "\n",
    "### 1. Import libraries"
   ]
  },
  {
   "cell_type": "code",
   "execution_count": 1,
   "metadata": {},
   "outputs": [],
   "source": [
    "import matplotlib.pyplot as plt\n",
    "from itertools import cycle\n",
    "import numpy as np\n",
    "import pandas as pd\n",
    "from sklearn.cluster import KMeans\n",
    "from sklearn import metrics"
   ]
  },
  {
   "cell_type": "markdown",
   "metadata": {},
   "source": [
    "### 2. Run class object mlclusters"
   ]
  },
  {
   "cell_type": "code",
   "execution_count": 2,
   "metadata": {},
   "outputs": [],
   "source": [
    "class Mlclusters:\n",
    "    \n",
    "    def __init__(self, ddrad, n_cluster):\n",
    "        \n",
    "        self.ddrad = ddrad\n",
    "        self.n_cluster = n_cluster\n",
    "        self.kmeans_labels = self._fit_kmeans\n",
    "        self.evaluate_performance = self._evaluate_performance\n",
    "        self.plot_kmeans = self._plot_kmeans\n",
    "         \n",
    "\n",
    "    # private functions\n",
    "    def _fit_kmeans(self):\n",
    "        \"\"\"\n",
    "        Fit a clustering method Kmeans\n",
    "        \"\"\"  \n",
    "        kmeans_model = KMeans(self.n_cluster, random_state=1).fit(self.ddrad)\n",
    "        labels = kmeans_model.labels_\n",
    "        return labels\n",
    "    \n",
    "        \n",
    "    def _evaluate_performance(self):\n",
    "        \"\"\"\n",
    "        Evaluate clustering performace using Silhouette Coefficient and Calinski-Harabaz Index\n",
    "        \"\"\"  \n",
    "        s_score = metrics.silhouette_score((self.ddrad), self.kmeans_labels(), metric='euclidean')\n",
    "        ch_score = metrics.calinski_harabaz_score((self.ddrad), self.kmeans_labels())\n",
    "\n",
    "        return pd.Series(\n",
    "            {\"Silhouette Coefficient\": s_score,\n",
    "             \"Calinski-Harabaz Index\": ch_score,\n",
    "            })\n",
    "    \n",
    "    \n",
    "    def _plot_kmeans(self):\n",
    "        \"\"\"\n",
    "        Creating a visual plot\n",
    "        \"\"\"  \n",
    "\n",
    "        # Compute clustering with KMeans\n",
    "\n",
    "        k_means = KMeans(self.n_cluster, init='k-means++', n_init=10)\n",
    "        k_means.fit(self.ddrad)\n",
    "\n",
    "        # The following bandwidth can be automatically detected using\n",
    "\n",
    "        labels = k_means.labels_\n",
    "        cluster_centers = k_means.cluster_centers_\n",
    "\n",
    "        labels_unique = np.unique(labels)\n",
    "        n_clusters_ = len(labels_unique)\n",
    "\n",
    "        # Plot result\n",
    "        plt.figure(1)\n",
    "        plt.clf() # Clear the current figure.\n",
    "\n",
    "        colors = cycle('bgrcmykbgrcmykbgrcmykbgrcmyk')\n",
    "        for k, col in zip(range(n_clusters_), colors):\n",
    "            my_members = labels == k\n",
    "            cluster_center = cluster_centers[k]\n",
    "            plt.plot(self.ddrad[my_members, 0], self.ddrad[my_members, 1], col + '.')\n",
    "            plt.plot(cluster_center[0], cluster_center[1], 'o', markerfacecolor=col,\n",
    "             markeredgecolor='k', markersize=14)\n",
    "        plt.title('Estimated number of clusters: %d' % n_clusters_)\n",
    "        plt.show()   \n",
    "    \n",
    "        # public function\n"
   ]
  },
  {
   "cell_type": "markdown",
   "metadata": {},
   "source": [
    "### 3. Generate dataset with structures"
   ]
  },
  {
   "cell_type": "code",
   "execution_count": 3,
   "metadata": {},
   "outputs": [],
   "source": [
    "nsnps = 5000\n",
    "\n",
    "# generate a data set with structure\n",
    "pop1 = np.random.binomial(1, 0.5, (1, nsnps))\n",
    "pop2 = np.random.binomial(1, 0.5, (1, nsnps))\n",
    "pop3 = np.random.binomial(1, 0.5, (1, nsnps))\n",
    "\n",
    "#make three population and each samples from  numpy array\n",
    "data = np.concatenate([\n",
    "    np.repeat(pop1, 5, axis=0),   #repead pop1 5 times in y axis \n",
    "    np.repeat(pop2, 5, axis=0),\n",
    "    np.repeat(pop3, 5, axis=0),\n",
    "])    \n",
    "\n",
    "targety = np.concatenate([\n",
    "    np.repeat(1, 5),   #repead pop1 5 times in y axis \n",
    "    np.repeat(2, 5),\n",
    "    np.repeat(3, 5),\n",
    "]) "
   ]
  },
  {
   "cell_type": "markdown",
   "metadata": {},
   "source": [
    "### 4. Create a class object\n",
    "This class object takes two arguments, 1) dataset, and 2) cluster number."
   ]
  },
  {
   "cell_type": "code",
   "execution_count": 4,
   "metadata": {},
   "outputs": [],
   "source": [
    "fish = Mlclusters(data, 3)"
   ]
  },
  {
   "cell_type": "markdown",
   "metadata": {},
   "source": [
    "### 5. Return kmeans labels"
   ]
  },
  {
   "cell_type": "code",
   "execution_count": 5,
   "metadata": {},
   "outputs": [
    {
     "data": {
      "text/plain": [
       "array([2, 2, 2, 2, 2, 0, 0, 0, 0, 0, 1, 1, 1, 1, 1], dtype=int32)"
      ]
     },
     "execution_count": 5,
     "metadata": {},
     "output_type": "execute_result"
    }
   ],
   "source": [
    "fish.kmeans_labels()"
   ]
  },
  {
   "cell_type": "markdown",
   "metadata": {},
   "source": [
    "### 6. Return a Silhouette Coefficient score"
   ]
  },
  {
   "cell_type": "code",
   "execution_count": 6,
   "metadata": {},
   "outputs": [
    {
     "data": {
      "text/plain": [
       "1.0"
      ]
     },
     "execution_count": 6,
     "metadata": {},
     "output_type": "execute_result"
    }
   ],
   "source": [
    "metrics.silhouette_score((fish.ddrad), fish.kmeans_labels(), metric='euclidean')"
   ]
  },
  {
   "cell_type": "markdown",
   "metadata": {},
   "source": [
    "### 7. Return a summary of performance evaluations"
   ]
  },
  {
   "cell_type": "code",
   "execution_count": 7,
   "metadata": {},
   "outputs": [
    {
     "data": {
      "text/plain": [
       "Calinski-Harabaz Index    1.0\n",
       "Silhouette Coefficient    1.0\n",
       "dtype: float64"
      ]
     },
     "execution_count": 7,
     "metadata": {},
     "output_type": "execute_result"
    }
   ],
   "source": [
    "fish.evaluate_performance()"
   ]
  },
  {
   "cell_type": "markdown",
   "metadata": {},
   "source": [
    "### 8. Plot "
   ]
  },
  {
   "cell_type": "code",
   "execution_count": 8,
   "metadata": {},
   "outputs": [
    {
     "data": {
      "image/png": "[encoded data removed]",
      "text/plain": [
       "<Figure size 432x288 with 1 Axes>"
      ]
     },
     "metadata": {},
     "output_type": "display_data"
    }
   ],
   "source": [
    "fish.plot_kmeans()"
   ]
  }
 ],
 "metadata": {
  "kernelspec": {
   "display_name": "Python 2",
   "language": "python",
   "name": "python2"
  },
  "language_info": {
   "codemirror_mode": {
    "name": "ipython",
    "version": 2
   },
   "file_extension": ".py",
   "mimetype": "text/x-python",
   "name": "python",
   "nbconvert_exporter": "python",
   "pygments_lexer": "ipython2",
   "version": "2.7.14"
  }
 },
 "nbformat": 4,
 "nbformat_minor": 2
}
